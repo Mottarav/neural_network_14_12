{
  "nbformat": 4,
  "nbformat_minor": 0,
  "metadata": {
    "colab": {
      "provenance": [],
      "toc_visible": true,
      "authorship_tag": "ABX9TyMw/YXyEDcAFIxRVc9V/xD7",
      "include_colab_link": true
    },
    "kernelspec": {
      "name": "python3",
      "display_name": "Python 3"
    },
    "language_info": {
      "name": "python"
    }
  },
  "cells": [
    {
      "cell_type": "markdown",
      "metadata": {
        "id": "view-in-github",
        "colab_type": "text"
      },
      "source": [
        "<a href=\"https://colab.research.google.com/github/Mottarav/neural_network_14_12/blob/main/Churn_neural_network.ipynb\" target=\"_parent\"><img src=\"https://colab.research.google.com/assets/colab-badge.svg\" alt=\"Open In Colab\"/></a>"
      ]
    },
    {
      "cell_type": "markdown",
      "source": [
        "# CHURN DATAFRAME - NEURAL NETWORK"
      ],
      "metadata": {
        "id": "wRaYDmXQUFrq"
      }
    },
    {
      "cell_type": "markdown",
      "source": [
        "## import libs"
      ],
      "metadata": {
        "id": "z45hWt_eUIOO"
      }
    },
    {
      "cell_type": "code",
      "execution_count": null,
      "metadata": {
        "id": "Ts-neYGMeAMs"
      },
      "outputs": [],
      "source": [
        "import numpy as np\n",
        "import pandas as pd\n",
        "\n",
        "import time\n",
        "from datetime import date \n",
        "#import sidetable\n",
        "\n",
        "\n",
        "import seaborn as sns\n",
        "import matplotlib.pyplot as plt\n",
        "import matplotlib.pyplot as plt; plt.rcdefaults()\n",
        "import plotly.express as px\n",
        "from scipy.sparse import csr_matrix\n",
        "#import pandas_profiling\n",
        "import missingno as msno\n",
        "from ipywidgets import interact, widgets\n",
        "\n",
        "\n",
        "from sklearn.neural_network import MLPClassifier\n",
        "from sklearn.model_selection import GridSearchCV, train_test_split\n",
        "from sklearn.tree import DecisionTreeClassifier\n",
        "from sklearn.linear_model import LogisticRegression\n",
        "from sklearn.ensemble import RandomForestClassifier\n",
        "from sklearn import datasets\n",
        "from sklearn.preprocessing import scale, MinMaxScaler, power_transform, LabelEncoder, StandardScaler\n",
        "from sklearn.neighbors import NearestNeighbors, KNeighborsClassifier\n",
        "from sklearn.metrics import accuracy_score, f1_score\n",
        "\n",
        "\n",
        "from IPython.core.display import HTML\n",
        "from ipywidgets import interact, widgets\n"
      ]
    },
    {
      "cell_type": "markdown",
      "source": [
        "## EDA"
      ],
      "metadata": {
        "id": "hUP1rIO2UOZe"
      }
    },
    {
      "cell_type": "code",
      "source": [
        "df = pd.read_excel('https://github.com/Mottarav/neural_network_14_12/blob/main/churn_data.xlsx?raw=true')\n",
        "df.head()"
      ],
      "metadata": {
        "id": "OVNV9gtkkh5m"
      },
      "execution_count": null,
      "outputs": []
    },
    {
      "cell_type": "code",
      "source": [
        "df.info()"
      ],
      "metadata": {
        "colab": {
          "base_uri": "https://localhost:8080/"
        },
        "id": "T4nwsJhBkqkS",
        "outputId": "ea776e3e-43e9-4832-fdfb-84890f7c4257"
      },
      "execution_count": null,
      "outputs": [
        {
          "output_type": "stream",
          "name": "stdout",
          "text": [
            "<class 'pandas.core.frame.DataFrame'>\n",
            "RangeIndex: 7042 entries, 0 to 7041\n",
            "Data columns (total 9 columns):\n",
            " #   Column            Non-Null Count  Dtype  \n",
            "---  ------            --------------  -----  \n",
            " 0   customerID        7042 non-null   object \n",
            " 1   tenure            7042 non-null   int64  \n",
            " 2   PhoneService      7042 non-null   object \n",
            " 3   Contract          7042 non-null   object \n",
            " 4   PaperlessBilling  7042 non-null   object \n",
            " 5   PaymentMethod     7042 non-null   object \n",
            " 6   MonthlyCharges    7042 non-null   float64\n",
            " 7   TotalCharges      7042 non-null   object \n",
            " 8   Churn             7042 non-null   object \n",
            "dtypes: float64(1), int64(1), object(7)\n",
            "memory usage: 495.3+ KB\n"
          ]
        }
      ]
    },
    {
      "cell_type": "code",
      "source": [
        "# variavel \"TotalCharges\" está como String, preciso modifica-la para valor numerico\n",
        "df['TotalCharges'] = pd.to_numeric(df['TotalCharges'],errors='coerce')"
      ],
      "metadata": {
        "id": "-y3gWH7Uks1P"
      },
      "execution_count": null,
      "outputs": []
    },
    {
      "cell_type": "code",
      "source": [
        "df.head()"
      ],
      "metadata": {
        "id": "m-m3rYjTk1vQ"
      },
      "execution_count": null,
      "outputs": []
    },
    {
      "cell_type": "code",
      "source": [
        "df.describe()"
      ],
      "metadata": {
        "id": "CTwmR90QlL34"
      },
      "execution_count": null,
      "outputs": []
    },
    {
      "cell_type": "code",
      "source": [
        "# verificando nulos\n",
        "df.isna().sum()"
      ],
      "metadata": {
        "id": "PdMPekLVlQGB"
      },
      "execution_count": null,
      "outputs": []
    },
    {
      "cell_type": "code",
      "source": [
        "# removendo nulos\n",
        "df = df.dropna()"
      ],
      "metadata": {
        "id": "N_v8yH2UlYTT"
      },
      "execution_count": null,
      "outputs": []
    },
    {
      "cell_type": "code",
      "source": [
        "df.head()"
      ],
      "metadata": {
        "id": "fvMF72JGIRkk"
      },
      "execution_count": null,
      "outputs": []
    },
    {
      "cell_type": "markdown",
      "source": [
        "### Split cat_vars from num_vars"
      ],
      "metadata": {
        "id": "SLV2p_ryUS-Z"
      }
    },
    {
      "cell_type": "code",
      "source": [
        "# divindido variaveis em listas de categoricas e numericas\n",
        "cat_vars = ['PhoneService','Contract','PaperlessBilling','PaymentMethod']\n",
        "num_vars = ['tenure','MonthlyCharges','TotalCharges']\n",
        "\n",
        "# variavel modeling vars criada como lista \n",
        "modeling_vars = cat_vars + num_vars"
      ],
      "metadata": {
        "id": "S8jwvMaWlgVQ"
      },
      "execution_count": null,
      "outputs": []
    },
    {
      "cell_type": "code",
      "source": [
        "# dividindo em X e Y\n",
        "x = df.filter(modeling_vars).copy()\n",
        "y = df['Churn'].copy()"
      ],
      "metadata": {
        "id": "oiCburc7KVDZ"
      },
      "execution_count": null,
      "outputs": []
    },
    {
      "cell_type": "code",
      "source": [
        "y.value_counts()"
      ],
      "metadata": {
        "id": "uZIrV0kgMlxh"
      },
      "execution_count": null,
      "outputs": []
    },
    {
      "cell_type": "code",
      "source": [
        "y = pd.DataFrame(y)"
      ],
      "metadata": {
        "id": "HGpfpGLWL8fq"
      },
      "execution_count": null,
      "outputs": []
    },
    {
      "cell_type": "markdown",
      "source": [
        "### LabelEnconder - target feature (Churn)"
      ],
      "metadata": {
        "id": "rn4GQtNuUZev"
      }
    },
    {
      "cell_type": "code",
      "source": [
        "# usando LabelEncoder para variavel churn\n",
        "le = LabelEncoder()\n",
        "le.fit(y.Churn)\n",
        "y.Churn = le.transform(y.Churn)"
      ],
      "metadata": {
        "id": "6AXtnqyxKibi"
      },
      "execution_count": null,
      "outputs": []
    },
    {
      "cell_type": "markdown",
      "source": [
        "### Get_dummies on X"
      ],
      "metadata": {
        "id": "vK6hJYB4UflZ"
      }
    },
    {
      "cell_type": "code",
      "source": [
        "# get dummies variavel X para criar as colunas binarias \n",
        "x = pd.get_dummies(x)"
      ],
      "metadata": {
        "id": "rFKTS-0EMJqN"
      },
      "execution_count": null,
      "outputs": []
    },
    {
      "cell_type": "markdown",
      "source": [
        "### Train test split X / Y"
      ],
      "metadata": {
        "id": "w9NvKsxvUryj"
      }
    },
    {
      "cell_type": "code",
      "source": [
        "# train test split no x e no y\n",
        "x_train , x_test , y_train , y_test = train_test_split(x,y,test_size=0.2, stratify=y)"
      ],
      "metadata": {
        "id": "bVRGO8a0MX2Q"
      },
      "execution_count": null,
      "outputs": []
    },
    {
      "cell_type": "markdown",
      "source": [
        "### Standard Scaler"
      ],
      "metadata": {
        "id": "js_JyFatUvJu"
      }
    },
    {
      "cell_type": "code",
      "source": [
        "# standard scaler nos dados\n",
        "scaler = StandardScaler()\n",
        "\n",
        "scaler.fit(x_train)\n",
        "x_train_scaled = scaler.transform(x_train)\n",
        "x_test_scaled = scaler.transform(x_test)"
      ],
      "metadata": {
        "id": "KSCuoOZvSzPg"
      },
      "execution_count": null,
      "outputs": []
    },
    {
      "cell_type": "code",
      "source": [
        "# transformar dados scaled em dataframe\n",
        "x_train = pd.DataFrame(x_train_scaled, columns=x_train.columns)\n",
        "x_test = pd.DataFrame(x_test_scaled, columns=x_test.columns)"
      ],
      "metadata": {
        "id": "wo0ZsGabTxHU"
      },
      "execution_count": null,
      "outputs": []
    },
    {
      "cell_type": "markdown",
      "source": [
        "## Neural Network"
      ],
      "metadata": {
        "id": "i_Sb79ugUudk"
      }
    },
    {
      "cell_type": "code",
      "source": [
        "# MLPCLASSIFIER PARA REDE NEURAL \n",
        "clf = MLPClassifier(hidden_layer_sizes=(100,50,20),activation = 'logistic')\n",
        "clf.fit(x_train,y_train)"
      ],
      "metadata": {
        "colab": {
          "base_uri": "https://localhost:8080/"
        },
        "id": "6JJDoTJrUt9K",
        "outputId": "2f27cc11-ca39-4f37-8040-435b16e926e4"
      },
      "execution_count": null,
      "outputs": [
        {
          "output_type": "stream",
          "name": "stderr",
          "text": [
            "/usr/local/lib/python3.8/dist-packages/sklearn/neural_network/_multilayer_perceptron.py:1109: DataConversionWarning: A column-vector y was passed when a 1d array was expected. Please change the shape of y to (n_samples, ), for example using ravel().\n",
            "  y = column_or_1d(y, warn=True)\n"
          ]
        },
        {
          "output_type": "execute_result",
          "data": {
            "text/plain": [
              "MLPClassifier(activation='logistic', hidden_layer_sizes=(100, 50, 20))"
            ]
          },
          "metadata": {},
          "execution_count": 34
        }
      ]
    },
    {
      "cell_type": "code",
      "source": [
        "# verificando accuracy Score do modelo\n",
        "y_pred = clf.predict(x_test)\n",
        "print(f'Acuracia: {accuracy_score(y_test,y_pred)*100:.2f}%')"
      ],
      "metadata": {
        "colab": {
          "base_uri": "https://localhost:8080/"
        },
        "id": "b8cvYZf9pVxW",
        "outputId": "d17c4908-5c2b-46c6-aad5-e7736d5fe3e0"
      },
      "execution_count": null,
      "outputs": [
        {
          "output_type": "stream",
          "name": "stdout",
          "text": [
            "Acuracia: 81.02%\n"
          ]
        }
      ]
    },
    {
      "cell_type": "code",
      "source": [
        "# verificando o f1 score do modelo\n",
        "print(f'F1 score: {f1_score(y_test,y_pred)*100:.2f}%')"
      ],
      "metadata": {
        "colab": {
          "base_uri": "https://localhost:8080/"
        },
        "id": "4kiTevehq54I",
        "outputId": "22ebbf7c-eebb-410a-e983-ca86745530b4"
      },
      "execution_count": null,
      "outputs": [
        {
          "output_type": "stream",
          "name": "stdout",
          "text": [
            "F1 score: 57.14%\n"
          ]
        }
      ]
    }
  ]
}